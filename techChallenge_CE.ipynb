{
 "cells": [
  {
   "cell_type": "code",
   "execution_count": 1,
   "id": "b2363412",
   "metadata": {},
   "outputs": [],
   "source": [
    "# Conor Edgecumbe Ogletree Tech Challenge ver1\n",
    "import numpy as np\n",
    "import pandas as pd\n",
    "import matplotlib.pyplot as plt\n",
    "import re\n",
    "import nltk\n",
    "import statistics\n",
    "\n",
    "from sklearn.metrics import r2_score\n",
    "from sklearn.svm import SVR\n",
    "from sklearn.preprocessing import OrdinalEncoder\n",
    "from nltk.sentiment.vader import SentimentIntensityAnalyzer\n",
    "\n",
    "%matplotlib inline"
   ]
  },
  {
   "cell_type": "code",
   "execution_count": 2,
   "id": "27c0aa17",
   "metadata": {},
   "outputs": [],
   "source": [
    "df = pd.read_csv('DATA/technical_challenge_v1.csv')"
   ]
  },
  {
   "cell_type": "code",
   "execution_count": 3,
   "id": "f0870ddd",
   "metadata": {},
   "outputs": [
    {
     "name": "stderr",
     "output_type": "stream",
     "text": [
      "[nltk_data] Downloading package stopwords to\n",
      "[nltk_data]     C:\\Users\\cedge\\AppData\\Roaming\\nltk_data...\n",
      "[nltk_data]   Package stopwords is already up-to-date!\n",
      "[nltk_data] Downloading package punkt to\n",
      "[nltk_data]     C:\\Users\\cedge\\AppData\\Roaming\\nltk_data...\n",
      "[nltk_data]   Package punkt is already up-to-date!\n",
      "[nltk_data] Downloading package averaged_perceptron_tagger to\n",
      "[nltk_data]     C:\\Users\\cedge\\AppData\\Roaming\\nltk_data...\n",
      "[nltk_data]   Package averaged_perceptron_tagger is already up-to-\n",
      "[nltk_data]       date!\n",
      "[nltk_data] Downloading package vader_lexicon to\n",
      "[nltk_data]     C:\\Users\\cedge\\AppData\\Roaming\\nltk_data...\n",
      "[nltk_data]   Package vader_lexicon is already up-to-date!\n"
     ]
    },
    {
     "data": {
      "text/plain": [
       "True"
      ]
     },
     "execution_count": 3,
     "metadata": {},
     "output_type": "execute_result"
    }
   ],
   "source": [
    "nltk.download('stopwords')\n",
    "nltk.download('punkt')\n",
    "nltk.download('averaged_perceptron_tagger')\n",
    "nltk.download('vader_lexicon')"
   ]
  },
  {
   "cell_type": "markdown",
   "id": "cc231195",
   "metadata": {},
   "source": [
    "## Cursory Analysis and Cleaning"
   ]
  },
  {
   "cell_type": "code",
   "execution_count": 4,
   "id": "a26a3812",
   "metadata": {
    "scrolled": true
   },
   "outputs": [
    {
     "name": "stdout",
     "output_type": "stream",
     "text": [
      "(1900, 4)\n",
      "Index(['File', 'Case', 'Case_Text', 'row'], dtype='object')\n"
     ]
    }
   ],
   "source": [
    "print(df.shape)\n",
    "print(df.columns)"
   ]
  },
  {
   "cell_type": "code",
   "execution_count": 5,
   "id": "7f775a5a",
   "metadata": {
    "scrolled": true
   },
   "outputs": [
    {
     "name": "stdout",
     "output_type": "stream",
     "text": [
      "<class 'pandas.core.frame.DataFrame'>\n",
      "RangeIndex: 1900 entries, 0 to 1899\n",
      "Data columns (total 4 columns):\n",
      " #   Column     Non-Null Count  Dtype \n",
      "---  ------     --------------  ----- \n",
      " 0   File       1900 non-null   object\n",
      " 1   Case       1900 non-null   object\n",
      " 2   Case_Text  1882 non-null   object\n",
      " 3   row        1900 non-null   int64 \n",
      "dtypes: int64(1), object(3)\n",
      "memory usage: 59.5+ KB\n",
      "File          0\n",
      "Case          0\n",
      "Case_Text    18\n",
      "row           0\n",
      "dtype: int64\n",
      "File         object\n",
      "Case         object\n",
      "Case_Text    object\n",
      "row           int64\n",
      "dtype: object\n"
     ]
    }
   ],
   "source": [
    "df.info()\n",
    "print(df.isna().sum())\n",
    "print(df.dtypes)"
   ]
  },
  {
   "cell_type": "code",
   "execution_count": 6,
   "id": "f56ef749",
   "metadata": {},
   "outputs": [],
   "source": [
    "# moving null entries to separate dataframe\n",
    "df_clean = df.dropna()\n",
    "df_na = df[~df.index.isin(df_clean.index)]"
   ]
  },
  {
   "cell_type": "markdown",
   "id": "8bb650a6",
   "metadata": {},
   "source": [
    "## Techincal Challenge Tasks"
   ]
  },
  {
   "cell_type": "code",
   "execution_count": 7,
   "id": "06bdbe9f",
   "metadata": {},
   "outputs": [],
   "source": [
    "# 1. Remove Extraneous Movie Reviews\n",
    "df_movie = []\n",
    "reConNum1 = r'(\\[.*\\d+.*\\])'\n",
    "reConNum2 = r'(\\(.*\\d+.*\\))'\n",
    "drop = []\n",
    "\n",
    "# extract movie reviews\n",
    "for index,row in df_clean.iterrows():\n",
    "    mo1 = re.search(reConNum1,row['Case_Text'])\n",
    "    mo2 = re.search(reConNum2,row['Case_Text'])\n",
    "    moS = re.search(r'\\s',row['Case_Text'])\n",
    "    if (mo1 == None and mo2 == None):\n",
    "        if moS != None:\n",
    "            df_movie.append(row)\n",
    "            drop.append(index)\n",
    "            \n",
    "df_clean = df_clean.drop(drop)\n",
    "df_clean = df_clean.reset_index(drop=True)"
   ]
  },
  {
   "cell_type": "code",
   "execution_count": 8,
   "id": "e7e69573",
   "metadata": {},
   "outputs": [],
   "source": [
    "# save csv\n",
    "pd.Series(df_movie).to_csv('movie.csv')"
   ]
  },
  {
   "cell_type": "code",
   "execution_count": 9,
   "id": "7296f379",
   "metadata": {},
   "outputs": [],
   "source": [
    "# 2. Remove the Row Column\n",
    "df_clean = df_clean.drop('row',axis=1)"
   ]
  },
  {
   "cell_type": "code",
   "execution_count": 10,
   "id": "ba753d0f",
   "metadata": {},
   "outputs": [],
   "source": [
    "# 3. Create column Case_Year\n",
    "case_year = []\n",
    "re_year = r'\\d{4}'\n",
    "for index,row in df_clean.iterrows():\n",
    "    years = re.findall(re_year,row['Case'])\n",
    "    if len(years) > 0:\n",
    "        case_year.append(int(min(years)))\n",
    "    else:\n",
    "        case_year.append(None)    # some cases are missing their year\n",
    "\n",
    "df_clean['Case_Year'] = case_year"
   ]
  },
  {
   "cell_type": "code",
   "execution_count": 11,
   "id": "c9c6fd92",
   "metadata": {},
   "outputs": [],
   "source": [
    "# 4a. Clean up Case_Text - extra newlines\n",
    "df_clean = df_clean.reset_index(drop=True)\n",
    "nl_re = r'\\n\\s*\\n'\n",
    "\n",
    "for index,row in df_clean.iterrows():\n",
    "    df_clean.loc[index,'Case_Text'] = re.sub(nl_re, '\\n\\n', row['Case_Text'])"
   ]
  },
  {
   "cell_type": "code",
   "execution_count": 12,
   "id": "cd02d0e6",
   "metadata": {},
   "outputs": [],
   "source": [
    "# 4b. Clean up Case_Text - integer paragraph markers\n",
    "para_re1 = r'\\n\\s*\\d{1,3}(\\s|\\.\\s)'\n",
    "para_re2 = r'^\\d{1,3}(\\s|\\.\\s)'\n",
    "for index,row in df_clean.iterrows():\n",
    "    df_clean.loc[index,'Case_Text'] = re.sub(para_re1,'\\n\\n',row['Case_Text'])\n",
    "for index,row in df_clean.iterrows():    # after changing conda env, for some reason does not process both subs together, separate loops fix..   \n",
    "    df_clean.loc[index,'Case_Text'] = re.sub(para_re2,'',row['Case_Text'])"
   ]
  },
  {
   "cell_type": "code",
   "execution_count": 13,
   "id": "aed9582a",
   "metadata": {},
   "outputs": [],
   "source": [
    "# 5. Create column Case_Reference\n",
    "case_references = []\n",
    "for index,row in df_clean.iterrows():\n",
    "    refs = []\n",
    "    txt = row['Case_Text']\n",
    "    refs = [sentence + '.' for sentence in txt.split('.') if 'Case' in sentence]\n",
    "    case_references.append(refs)\n",
    "df_clean['Case_Reference'] = case_references"
   ]
  },
  {
   "cell_type": "code",
   "execution_count": 14,
   "id": "9acedccb",
   "metadata": {},
   "outputs": [],
   "source": [
    "# 6. Save data as .json and .csv\n",
    "json_out = df_clean.to_json(orient='records')\n",
    "with open('final_data.json','w') as outfile:\n",
    "    outfile.write(json_out)\n",
    "df_clean.to_csv('final_data.csv')"
   ]
  },
  {
   "cell_type": "code",
   "execution_count": 15,
   "id": "2a5d6211",
   "metadata": {},
   "outputs": [],
   "source": [
    "# 7.  Extract PEOPLE, LOCATION, DATE entities\n",
    "# see extraction.txt"
   ]
  },
  {
   "cell_type": "code",
   "execution_count": 16,
   "id": "193f5dad",
   "metadata": {},
   "outputs": [],
   "source": [
    "# 8. Sentiment Analysis\n",
    "sia = SentimentIntensityAnalyzer()\n",
    "sent_scores = []\n",
    "for index,row in df_clean.iterrows():\n",
    "    txt = row['Case_Text']\n",
    "    sent = sia.polarity_scores(txt)\n",
    "    sent_scores.append(sent)\n",
    "df_clean['sentiment'] = sent_scores"
   ]
  },
  {
   "cell_type": "code",
   "execution_count": 17,
   "id": "a3fdebf7",
   "metadata": {},
   "outputs": [],
   "source": [
    "# 9. Machine Learning\n",
    "# Concerning data augmentation: I was unsure how to augment the data for unseen-years that were not part of the prediction task (2009-2021)\n",
    "# I did not do any data augmentation, rather I transformed the data by averaging over 5 year spans in an attempt to reduce noise and find a decent fit to averaged trend\n",
    "# Just did a simple regression, extrapolated the 2nd order polynomial fit to unseen years 2009-2027"
   ]
  },
  {
   "cell_type": "code",
   "execution_count": 18,
   "id": "5a8d0c53",
   "metadata": {},
   "outputs": [],
   "source": [
    "# data preparation\n",
    "df_clean = df_clean.dropna()\n",
    "df = df_clean[df_clean.Case_Year >= 1970]    # remove years 1969 and earlier"
   ]
  },
  {
   "cell_type": "code",
   "execution_count": 19,
   "id": "0d0c5126",
   "metadata": {},
   "outputs": [],
   "source": [
    "yr_ct = df['Case_Year'].value_counts()\n",
    "case_count = yr_ct.values\n",
    "years = np.array(yr_ct.axes)[0]\n",
    "yearly_cases = list(map(lambda x,y:(x,y),years,case_count))\n",
    "yearly_cases.sort()\n",
    "years_sort = np.array([x[0] for x in yearly_cases])\n",
    "num_cases_sort = np.array([x[1] for x in yearly_cases])"
   ]
  },
  {
   "cell_type": "code",
   "execution_count": 20,
   "id": "583d5cf1",
   "metadata": {},
   "outputs": [],
   "source": [
    "# Experimenting with a linear SVR for visualization\n",
    "X_test = [2009,2010,2011,2012,2013,2014,2015,2016,2017,2018,2019,2020]\n",
    "svr = SVR(kernel='linear')\n",
    "svr.fit(years_sort.reshape(-1,1),num_cases_sort)\n",
    "y_hat = svr.predict(np.array(X_test).reshape(-1,1))"
   ]
  },
  {
   "cell_type": "code",
   "execution_count": 21,
   "id": "073a8e2e",
   "metadata": {
    "scrolled": false
   },
   "outputs": [
    {
     "data": {
      "image/png": "[encoded data removed]",
      "text/plain": [
       "<Figure size 432x288 with 1 Axes>"
      ]
     },
     "metadata": {
      "needs_background": "light"
     },
     "output_type": "display_data"
    }
   ],
   "source": [
    "# Very noisy past 2000\n",
    "plt.plot(years_sort,num_cases_sort)\n",
    "plt.plot(np.array(X_test).reshape(-1,1),y_hat)\n",
    "plt.show()"
   ]
  },
  {
   "cell_type": "code",
   "execution_count": 22,
   "id": "de7ebfac",
   "metadata": {},
   "outputs": [],
   "source": [
    "# average cases every 5 years\n",
    "n=5\n",
    "cases_5avg = [sum(num_cases_sort[i:i+n])//n for i in range(0,len(num_cases_sort),n)]\n",
    "years_5 = years_sort[::5]"
   ]
  },
  {
   "cell_type": "code",
   "execution_count": 23,
   "id": "3c842adf",
   "metadata": {},
   "outputs": [
    {
     "data": {
      "image/png": "[encoded data removed]",
      "text/plain": [
       "<Figure size 432x288 with 1 Axes>"
      ]
     },
     "metadata": {
      "needs_background": "light"
     },
     "output_type": "display_data"
    },
    {
     "name": "stdout",
     "output_type": "stream",
     "text": [
      "0.7866006106589798\n"
     ]
    }
   ],
   "source": [
    "# polynomial fit to original data\n",
    "mymodel = np.poly1d(np.polyfit(years_sort, num_cases_sort, 2))\n",
    "myline = np.linspace(1970, 2010, 100)\n",
    "\n",
    "plt.scatter(years_sort, num_cases_sort)\n",
    "plt.plot(myline, mymodel(myline))\n",
    "plt.show()\n",
    "print(r2_score(num_cases_sort, mymodel(years_sort)))"
   ]
  },
  {
   "cell_type": "code",
   "execution_count": 24,
   "id": "5b3163bd",
   "metadata": {},
   "outputs": [
    {
     "data": {
      "image/png": "[encoded data removed]",
      "text/plain": [
       "<Figure size 432x288 with 1 Axes>"
      ]
     },
     "metadata": {
      "needs_background": "light"
     },
     "output_type": "display_data"
    },
    {
     "name": "stdout",
     "output_type": "stream",
     "text": [
      "0.9459919566749599\n"
     ]
    }
   ],
   "source": [
    "# polynomial fit to avg\n",
    "x = years_5\n",
    "y = cases_5avg\n",
    "mymodel = np.poly1d(np.polyfit(x, y, 2))\n",
    "myline = np.linspace(1970, 2010, 100)\n",
    "\n",
    "plt.scatter(x, y)\n",
    "plt.plot(myline, mymodel(myline))\n",
    "plt.show()\n",
    "print(r2_score(y, mymodel(x)))"
   ]
  },
  {
   "cell_type": "code",
   "execution_count": 25,
   "id": "a3b4ca1b",
   "metadata": {},
   "outputs": [
    {
     "data": {
      "image/png": "[encoded data removed]",
      "text/plain": [
       "<Figure size 432x288 with 1 Axes>"
      ]
     },
     "metadata": {
      "needs_background": "light"
     },
     "output_type": "display_data"
    }
   ],
   "source": [
    "# predictions\n",
    "X_test = []\n",
    "for i in range(0,19):\n",
    "    X_test.append(2009+i)\n",
    "y_hat = mymodel(X_test)\n",
    "\n",
    "myline = np.linspace(1970, 2030, 200)\n",
    "plt.scatter(x, y)\n",
    "plt.plot(myline, mymodel(myline))\n",
    "plt.errorbar(X_test,y_hat,yerr = statistics.stdev(y))\n",
    "plt.show()"
   ]
  }
 ],
 "metadata": {
  "kernelspec": {
   "display_name": "Python 3 (ipykernel)",
   "language": "python",
   "name": "python3"
  },
  "language_info": {
   "codemirror_mode": {
    "name": "ipython",
    "version": 3
   },
   "file_extension": ".py",
   "mimetype": "text/x-python",
   "name": "python",
   "nbconvert_exporter": "python",
   "pygments_lexer": "ipython3",
   "version": "3.7.11"
  }
 },
 "nbformat": 4,
 "nbformat_minor": 5
}
